{
  "nbformat": 4,
  "nbformat_minor": 0,
  "metadata": {
    "colab": {
      "provenance": [],
      "authorship_tag": "ABX9TyNP6/HqxVXGnlHroGZ0W9ZG",
      "include_colab_link": true
    },
    "kernelspec": {
      "name": "python3",
      "display_name": "Python 3"
    },
    "language_info": {
      "name": "python"
    }
  },
  "cells": [
    {
      "cell_type": "markdown",
      "metadata": {
        "id": "view-in-github",
        "colab_type": "text"
      },
      "source": [
        "<a href=\"https://colab.research.google.com/github/raz228822/Calculator/blob/main/Exc6_Raz.ipynb\" target=\"_parent\"><img src=\"https://colab.research.google.com/assets/colab-badge.svg\" alt=\"Open In Colab\"/></a>"
      ]
    },
    {
      "cell_type": "code",
      "source": [
        "from firebase import firebase\n",
        "from google.colab import drive\n",
        "import json\n",
        "import ipywidgets as widgets\n",
        "\n",
        "FBconn = firebase.FirebaseApplication('https://cloudcomputing-e1f5d-default-rtdb.firebaseio.com/', None)\n",
        "\n",
        "\n",
        "def button_eventhandler(obj):\n",
        "    \n",
        "    question_to_upload = {\n",
        "    'question' : question.value,\n",
        "    'correct' : correct_answer.value,\n",
        "    'ans1' : answer_1.value,\n",
        "    'ans2' : answer_2.value,\n",
        "    'ans3' : answer_3.value,\n",
        "    'ans4' : answer_4.value\n",
        "    }\n",
        "    FBconn.post('/Questions/', question_to_upload)\n",
        "    reset_fields()\n",
        "\n",
        "def reset_fields():\n",
        "    question.value = ''\n",
        "    answer_1.value = ''\n",
        "    answer_2.value = ''\n",
        "    answer_3.value = ''\n",
        "    answer_4.value = ''\n",
        "    correct_answer = ''\n",
        "\n",
        "\n",
        "#@title QuestionsForm\n",
        "question = widgets.Text(description=\"Question:\", layout=widgets.Layout(width='500px'))\n",
        "answer_1 = widgets.Text(description=\"Answer #1:\", layout=widgets.Layout(width='300px'))\n",
        "answer_2 = widgets.Text(description=\"Answer #2:\", layout=widgets.Layout(width='300px'))\n",
        "answer_3 = widgets.Text(description=\"Answer #3:\", layout=widgets.Layout(width='300px'))\n",
        "answer_4 = widgets.Text(description=\"Answer #4:\", layout=widgets.Layout(width='300px'))\n",
        "correct_answer = widgets.Text(description=\"Correct Answer:\", layout=widgets.Layout(width='130px'), style={'description_width': 'initial'})\n",
        "\n",
        "btn = widgets.Button(description='Add Question')\n",
        "btn.on_click(button_eventhandler)\n",
        "\n",
        "display(question)\n",
        "display(answer_1)\n",
        "display(answer_2)\n",
        "display(answer_3)\n",
        "display(answer_4)\n",
        "display(correct_answer)\n",
        "display(btn)\n",
        "\n",
        "#result = FBconn.get('/Questions/', None)\n",
        "#for key in result:\n",
        "#  print(key + \"\\t\" + str(result[key]))"
      ],
      "metadata": {
        "id": "qM34SSwIvCB4"
      },
      "execution_count": null,
      "outputs": []
    }
  ]
}