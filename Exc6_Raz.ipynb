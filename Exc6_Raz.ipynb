{
  "nbformat": 4,
  "nbformat_minor": 0,
  "metadata": {
    "colab": {
      "provenance": [],
      "authorship_tag": "ABX9TyPXq1P9opVgcqtp9Kgmul7/",
      "include_colab_link": true
    },
    "kernelspec": {
      "name": "python3",
      "display_name": "Python 3"
    },
    "language_info": {
      "name": "python"
    }
  },
  "cells": [
    {
      "cell_type": "markdown",
      "metadata": {
        "id": "view-in-github",
        "colab_type": "text"
      },
      "source": [
        "<a href=\"https://colab.research.google.com/github/raz228822/Calculator/blob/main/Exc6_Raz.ipynb\" target=\"_parent\"><img src=\"https://colab.research.google.com/assets/colab-badge.svg\" alt=\"Open In Colab\"/></a>"
      ]
    },
    {
      "cell_type": "code",
      "source": [
        "!pip install firebase"
      ],
      "metadata": {
        "colab": {
          "base_uri": "https://localhost:8080/"
        },
        "id": "osroJ7PJu0nl",
        "outputId": "1ffb6bf6-71fd-4b74-d743-f7235f3893d2"
      },
      "execution_count": null,
      "outputs": [
        {
          "output_type": "stream",
          "name": "stdout",
          "text": [
            "Looking in indexes: https://pypi.org/simple, https://us-python.pkg.dev/colab-wheels/public/simple/\n",
            "Collecting firebase\n",
            "  Downloading firebase-4.0.1-py3-none-any.whl (12 kB)\n",
            "Requirement already satisfied: requests in /usr/local/lib/python3.10/dist-packages (from firebase) (2.27.1)\n",
            "Requirement already satisfied: urllib3<1.27,>=1.21.1 in /usr/local/lib/python3.10/dist-packages (from requests->firebase) (1.26.15)\n",
            "Requirement already satisfied: charset-normalizer~=2.0.0 in /usr/local/lib/python3.10/dist-packages (from requests->firebase) (2.0.12)\n",
            "Requirement already satisfied: certifi>=2017.4.17 in /usr/local/lib/python3.10/dist-packages (from requests->firebase) (2022.12.7)\n",
            "Requirement already satisfied: idna<4,>=2.5 in /usr/local/lib/python3.10/dist-packages (from requests->firebase) (3.4)\n",
            "Installing collected packages: firebase\n",
            "Successfully installed firebase-4.0.1\n"
          ]
        }
      ]
    },
    {
      "cell_type": "code",
      "source": [
        "from firebase import firebase\n",
        "from google.colab import drive\n",
        "import json\n",
        "import ipywidgets as widgets\n",
        "\n",
        "FBconn = firebase.FirebaseApplication('https://cloudcomputing-e1f5d-default-rtdb.firebaseio.com/', None)\n",
        "\n",
        "\n",
        "def button_eventhandler(obj):\n",
        "    \n",
        "    question_to_upload = {\n",
        "    'question' : question.value,\n",
        "    'correct' : correct_answer.value,\n",
        "    'ans1' : answer_1.value,\n",
        "    'ans2' : answer_2.value,\n",
        "    'ans3' : answer_3.value,\n",
        "    'ans4' : answer_4.value\n",
        "    }\n",
        "    FBconn.post('/Questions/', question_to_upload)\n",
        "    reset_fields()\n",
        "\n",
        "def reset_fields():\n",
        "    question.value = ''\n",
        "    answer_1.value = ''\n",
        "    answer_2.value = ''\n",
        "    answer_3.value = ''\n",
        "    answer_4.value = ''\n",
        "    correct_answer = ''\n",
        "\n",
        "\n",
        "#@title QuestionsForm\n",
        "question = widgets.Text(description=\"Question:\", layout=widgets.Layout(width='500px'))\n",
        "answer_1 = widgets.Text(description=\"Answer #1:\", layout=widgets.Layout(width='300px'))\n",
        "answer_2 = widgets.Text(description=\"Answer #2:\", layout=widgets.Layout(width='300px'))\n",
        "answer_3 = widgets.Text(description=\"Answer #3:\", layout=widgets.Layout(width='300px'))\n",
        "answer_4 = widgets.Text(description=\"Answer #4:\", layout=widgets.Layout(width='300px'))\n",
        "correct_answer = widgets.Text(description=\"Correct Answer:\", layout=widgets.Layout(width='130px'), style={'description_width': 'initial'})\n",
        "\n",
        "btn = widgets.Button(description='Add Question')\n",
        "btn.on_click(button_eventhandler)\n",
        "\n",
        "display(question)\n",
        "display(answer_1)\n",
        "display(answer_2)\n",
        "display(answer_3)\n",
        "display(answer_4)\n",
        "display(correct_answer)\n",
        "display(btn)\n",
        "\n",
        "#result = FBconn.get('/Questions/', None)\n",
        "#for key in result:\n",
        "#  print(key + \"\\t\" + str(result[key]))"
      ],
      "metadata": {
        "id": "qM34SSwIvCB4"
      },
      "execution_count": null,
      "outputs": []
    }
  ]
}